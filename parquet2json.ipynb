{
 "cells": [
  {
   "cell_type": "markdown",
   "id": "b9b65d46-d2cf-4db4-be98-dc363b49090f",
   "metadata": {},
   "source": [
    "# Convert to standard Vega-lite JSON"
   ]
  },
  {
   "cell_type": "code",
   "execution_count": null,
   "id": "4c431e02-35aa-4cdd-92a4-41fac2fca69e",
   "metadata": {},
   "outputs": [],
   "source": [
    "#NOTE: 5 columns = 190MB, so just save SWE and Snow depth to save space for now..."
   ]
  },
  {
   "cell_type": "code",
   "execution_count": null,
   "id": "5ff5daca-d6fa-4194-b645-421e8d19efc5",
   "metadata": {},
   "outputs": [],
   "source": [
    "import glob\n",
    "import pandas as pd"
   ]
  },
  {
   "cell_type": "code",
   "execution_count": null,
   "id": "784bf5e2-9484-471e-b1d5-c71479dea87f",
   "metadata": {},
   "outputs": [],
   "source": [
    "#os.chdir('timeseries')"
   ]
  },
  {
   "cell_type": "code",
   "execution_count": null,
   "id": "d6ee3c96-f999-465f-bc41-819ffbc5484a",
   "metadata": {},
   "outputs": [],
   "source": [
    "files = glob.glob('*.parquet')\n",
    "files[-1]"
   ]
  },
  {
   "cell_type": "code",
   "execution_count": null,
   "id": "c443db3f-2007-480e-a678-7e13c6cf8e9c",
   "metadata": {},
   "outputs": [],
   "source": [
    "df = pd.read_parquet(f)\n",
    "df = df[['SNWD','WTEQ']].reset_index()"
   ]
  },
  {
   "cell_type": "code",
   "execution_count": null,
   "id": "288e03ae-1d66-46b1-851c-ebde5e69c61f",
   "metadata": {},
   "outputs": [],
   "source": [
    "# for f in files:\n",
    "#     df = pd.read_parquet(f)\n",
    "#     df = df[['SNWD','WTEQ']].reset_index()\n",
    "#     df.to_json('./json/'+f.replace('.parquet','.json'), \n",
    "#              orient='records', \n",
    "#              #date_unit='s',\n",
    "#              date_format='iso',\n",
    "#              double_precision=5, \n",
    "#             )"
   ]
  },
  {
   "cell_type": "code",
   "execution_count": null,
   "id": "69123439-3eb0-4953-b1a9-f0b4367ec106",
   "metadata": {},
   "outputs": [],
   "source": [
    "!du -sh json"
   ]
  },
  {
   "cell_type": "code",
   "execution_count": null,
   "id": "f157c4f8-762d-4be9-a5d6-b19b23398a3e",
   "metadata": {},
   "outputs": [],
   "source": [
    "sitecode = '302_OR_SNTL'\n",
    "df = pd.read_json(f'./json/{sitecode}.json')"
   ]
  },
  {
   "cell_type": "code",
   "execution_count": null,
   "id": "d7d0e520-ee90-4514-a55e-66b0ba720ebd",
   "metadata": {},
   "outputs": [],
   "source": [
    "#df.melt('datetime') #6575 rows!"
   ]
  },
  {
   "cell_type": "code",
   "execution_count": null,
   "id": "a0785897-6b44-4d9a-a81e-6464122a7b20",
   "metadata": {},
   "outputs": [],
   "source": [
    "import altair as alt"
   ]
  },
  {
   "cell_type": "code",
   "execution_count": null,
   "id": "fc76c75c-5ac5-4f70-b99f-3931aac2f4f1",
   "metadata": {},
   "outputs": [],
   "source": [
    "# https://altair-viz.github.io/user_guide/data.html#including-index-data\n",
    "\n",
    "#data = df\n",
    "data = f'https://raw.githubusercontent.com/scottyhq/snotel/main/json/{sitecode}.json'\n",
    "#data = './json/302_OR_SNTL.json' # doesn't plot in jupyernotebook, maybe on webste though?\n",
    "\n",
    "chart = alt.Chart(data, title=sitecode).transform_fold(\n",
    "    ['SNWD', 'WTEQ'],\n",
    "    as_=['variable', 'depth, swe (m)'],\n",
    ").mark_line().encode(\n",
    "    x='datetime:T',\n",
    "    y='depth, swe (m):Q',\n",
    "    color='variable:N',\n",
    "    tooltip=['datetime:T','SNWD:Q','WTEQ:Q'],\n",
    ").properties(width=600)\n",
    "\n",
    "chart.interactive()\n",
    "chart"
   ]
  },
  {
   "cell_type": "code",
   "execution_count": null,
   "id": "17dd3bfe-c504-4002-888e-328ae7694cd4",
   "metadata": {},
   "outputs": [],
   "source": [
    "chart.save('302_OR_SNTL.html')"
   ]
  },
  {
   "cell_type": "code",
   "execution_count": null,
   "id": "50e24050-64c7-43f9-a40b-9c0da6688ed9",
   "metadata": {},
   "outputs": [],
   "source": [
    "# NOTE {'$schema': 'https://vega.github.io/schema/vega-lite/v4.17.0.json',\n",
    "# Determines what javascript libraries should be when folium writes out HTML\n",
    "# {'$schema': 'https://vega.github.io/schema/vega-lite/v4.17.0.json',\n",
    "# https://github.com/python-visualization/folium/pull/1525\n",
    "\n",
    "from pprint import pprint\n",
    "my_chart = chart.to_dict()\n",
    "pprint(my_chart)"
   ]
  },
  {
   "cell_type": "code",
   "execution_count": null,
   "id": "01dc4e22-bd10-49e6-a7ce-a938367e5375",
   "metadata": {},
   "outputs": [],
   "source": [
    "# Add MGRS square to each snotel station\n",
    "#!pip install mgrs\n",
    "import mgrs\n",
    "\n",
    "m = mgrs.MGRS()\n",
    "\n",
    "def get_mgrs_square(longitude, latitude):\n",
    "    c = m.toMGRS(latitude, longitude, MGRSPrecision=0)\n",
    "    return c"
   ]
  },
  {
   "cell_type": "code",
   "execution_count": null,
   "id": "8a7a6bc8-6444-4177-a965-27c0ad5c6679",
   "metadata": {},
   "outputs": [],
   "source": [
    "get_mgrs(gf.longitude[0], gf.latitude[0])"
   ]
  },
  {
   "cell_type": "code",
   "execution_count": null,
   "id": "594176e8-ea31-4d1d-add9-ea76042b21af",
   "metadata": {},
   "outputs": [],
   "source": [
    "#gf['mgrs'] = \n",
    "gf['mgrs'] = gf.apply(lambda x: get_mgrs(x.longitude, x.latitude), axis=1)\n",
    "gf.head()"
   ]
  },
  {
   "cell_type": "code",
   "execution_count": null,
   "id": "02577f00-8dee-4e79-a770-ab3c4972b1fe",
   "metadata": {},
   "outputs": [],
   "source": [
    "gf.to_file('snotel-sites.geojson', driver='GeoJSON')"
   ]
  },
  {
   "cell_type": "code",
   "execution_count": null,
   "id": "a741b465-568f-4142-88e1-d40c5d27c728",
   "metadata": {},
   "outputs": [],
   "source": [
    "import geopandas as gpd\n",
    "gf = gpd.read_file('snotel-sites.geojson')\n",
    "gf.head()"
   ]
  },
  {
   "cell_type": "code",
   "execution_count": null,
   "id": "1f309434-1f5e-4a87-bf4d-61128566f8d3",
   "metadata": {},
   "outputs": [],
   "source": [
    "import os\n",
    "def has_timeseries(code):\n",
    "    return os.path.isfile(f'parquet/{code}.parquet')\n",
    "\n",
    "has_timeseries(gf.code[0])\n",
    "gf['timeseries'] = gf.apply(lambda x: has_timeseries(x.code), axis=1)\n",
    "gf.head()"
   ]
  },
  {
   "cell_type": "code",
   "execution_count": null,
   "id": "48154318-96ff-41b3-9a79-2ad059b95467",
   "metadata": {},
   "outputs": [],
   "source": [
    "gf[gf.code == '302_OR_SNTL']"
   ]
  },
  {
   "cell_type": "code",
   "execution_count": null,
   "id": "9f0fc838-ada6-4bc3-8d9d-5853862fb711",
   "metadata": {},
   "outputs": [],
   "source": [
    "for i,row in gf[:3].iterrows():\n",
    "    print(row.code)"
   ]
  },
  {
   "cell_type": "code",
   "execution_count": null,
   "id": "f2a1ef91-5a03-4373-92d5-d47cca3f17ef",
   "metadata": {},
   "outputs": [],
   "source": [
    "len(gf[gf.timeseries])"
   ]
  },
  {
   "cell_type": "code",
   "execution_count": null,
   "id": "2489bae8-b157-4e49-a7fa-8d5501a0a41d",
   "metadata": {},
   "outputs": [],
   "source": [
    "# NOTE: it seems this is convenient for a dataframe, but if you want custom popups for each one\n",
    "# need to iterate (see next cell)\n",
    "\n",
    "import folium\n",
    "import json\n",
    "\n",
    "m = folium.Map(\n",
    "    location=(47.6062, -122.3321),\n",
    "    tiles=\"stamenterrain\",\n",
    "    zoom_start= 4,\n",
    "    control_scale = True,\n",
    ")\n",
    "\n",
    "# Can also use geopandas explore() method here\n",
    "mymarker = folium.Marker(icon=folium.Icon(color='green')) # Having trouble overriding styling...\n",
    "#mystyle = lambda x: {'color': 'cyan' if x['properties']['timeseries']==True else 'magenta'}\n",
    "mymarker = folium.Circle(fill=False, radius=200)\n",
    "#snotel_stations = \"https://raw.githubusercontent.com/scottyhq/snotel/main/snotel-sites.geojson\"\n",
    "#snotel_stations = gf #Timestamp not serialiable\n",
    "#snotel_stations = 'file://snotel-sites.geojson' # does not show data from local file...\n",
    "#snotel_stations = json.load(open(\"snotel-sites.geojson\")) #works in JNotebook\n",
    "snotel_stations = './snotel-sites.geojson' #works!\n",
    "gjson = folium.GeoJson(snotel_stations, \n",
    "                       embed=False, \n",
    "                       marker=mymarker,\n",
    "                       style_function=mystyle, \n",
    "                       name=\"snotel\").add_to(m)\n",
    "\n",
    "folium.features.GeoJsonTooltip(fields=[\"code\"], labels=False).add_to(gjson)\n",
    "folium.features.GeoJsonPopup(fields=all_fields, labels=True).add_to(gjson)\n",
    "\n",
    "# Add popup plot with timeseries\n",
    "# my_chart['data']['url'] = f'https://raw.githubusercontent.com/scottyhq/snotel/main/json/{code}.json'\n",
    "# folium.Marker(\n",
    "#     location = [45.21328,-117.192581],\n",
    "#     # NOTE: chart width is 600, so this adjustment makes it fit nicely\n",
    "#     popup = folium.Popup(min_width=700, max_width=700).add_child(folium.VegaLite(my_chart)),\n",
    "# ).add_to(m)\n",
    "\n",
    "\n",
    "# NOTE: is there a way to do this a function / variable map to make HTML more concise?\n",
    "plots_group = folium.FeatureGroup(show=False, name='timeseries')\n",
    "gfp = gf[gf.timeseries] # only stations with timesries data\n",
    "for i,row in gfp.iterrows():\n",
    "    my_chart['data']['url'] = f'https://raw.githubusercontent.com/scottyhq/snotel/main/json/{row.code}.json'\n",
    "    folium.Marker(\n",
    "         lazy = True,\n",
    "         location = [row.latitude,row.longitude],\n",
    "         #NOTE: chart width is 600, so this adjustment makes it fit nicely\n",
    "         popup = folium.Popup(min_width=700, max_width=700).add_child(folium.VegaLite(my_chart)),\n",
    "    ).add_to(plots_group) \n",
    "\n",
    "plots_group.add_to(m)\n",
    "        \n",
    "folium.LayerControl().add_to(m)\n",
    "\n",
    "m"
   ]
  },
  {
   "cell_type": "code",
   "execution_count": null,
   "id": "16986398-6dc8-48eb-bdef-5974452b39f6",
   "metadata": {},
   "outputs": [],
   "source": [
    "m.save('index.html')"
   ]
  },
  {
   "cell_type": "raw",
   "id": "4d2e3a14-95be-4bde-b59b-5d1d220df277",
   "metadata": {},
   "source": [
    "# NOTE: seems to be a bug in matching js library versions, so add these manually after saving:\n",
    "\n",
    "<script type=\"text/javascript\" src=\"https://cdn.jsdelivr.net/npm//vega@5\"></script>\n",
    "<script type=\"text/javascript\" src=\"https://cdn.jsdelivr.net/npm//vega-lite@4.17.0\"></script>\n",
    "<script type=\"text/javascript\" src=\"https://cdn.jsdelivr.net/npm//vega-embed@6\"></script>"
   ]
  },
  {
   "cell_type": "code",
   "execution_count": null,
   "id": "cd53f3ba-f5c9-472c-a7c1-526ec74ff020",
   "metadata": {},
   "outputs": [],
   "source": [
    "# It is unclear to me how to easily add custom VEGA-Lite plots into GeoJsonpopups...\n",
    "# https://github.com/python-visualization/folium/issues/1362\n",
    "# https://github.com/python-visualization/folium/issues/1315#issuecomment-621016017\n",
    "\n",
    "# 1. Make sure to lazy load\n",
    "# 2. Easy syntax to create\n",
    "# 3. Efficient HTML / javascript (don't want tons of entries...)\n",
    "\n",
    "\n",
    "# Seems slow to load all stations even with lazy=True...\n",
    "# Apparently not lazy...."
   ]
  }
 ],
 "metadata": {
  "kernelspec": {
   "display_name": "Python 3 (ipykernel)",
   "language": "python",
   "name": "python3"
  },
  "language_info": {
   "codemirror_mode": {
    "name": "ipython",
    "version": 3
   },
   "file_extension": ".py",
   "mimetype": "text/x-python",
   "name": "python",
   "nbconvert_exporter": "python",
   "pygments_lexer": "ipython3",
   "version": "3.10.6"
  }
 },
 "nbformat": 4,
 "nbformat_minor": 5
}
