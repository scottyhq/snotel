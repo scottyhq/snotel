{
 "cells": [
  {
   "cell_type": "markdown",
   "id": "214185d7-c145-4a22-b5fb-875a0aa5967e",
   "metadata": {},
   "source": [
    "# HVplot HTML for folium"
   ]
  },
  {
   "cell_type": "code",
   "execution_count": null,
   "id": "98a60cc3-a504-4d56-949d-0f07f031202a",
   "metadata": {},
   "outputs": [],
   "source": [
    "import pandas as pd\n",
    "import hvplot.pandas"
   ]
  },
  {
   "cell_type": "code",
   "execution_count": null,
   "id": "c39de5d4-4409-42c8-b4ae-b0d658896096",
   "metadata": {},
   "outputs": [],
   "source": [
    "df = pd.read_parquet('timeseries/301_CA_SNTL.parquet')\n",
    "df.head()"
   ]
  },
  {
   "cell_type": "code",
   "execution_count": null,
   "id": "a762e5c4-f6de-456e-a84b-b18476e4113b",
   "metadata": {},
   "outputs": [],
   "source": [
    "df.info()"
   ]
  },
  {
   "cell_type": "code",
   "execution_count": null,
   "id": "53382f2d-85d3-46e6-b544-e2cdac742479",
   "metadata": {},
   "outputs": [],
   "source": [
    "df.to_json('timeseries/301_CA_SNTL.json')"
   ]
  },
  {
   "cell_type": "code",
   "execution_count": null,
   "id": "33e0d155-ddb6-4720-972e-9ec3110bc93c",
   "metadata": {},
   "outputs": [],
   "source": [
    "# Nice!\n",
    "#hvplot.explorer(df)"
   ]
  },
  {
   "cell_type": "code",
   "execution_count": null,
   "id": "4f771a9c-e792-4c13-9f5e-c8645299e001",
   "metadata": {},
   "outputs": [],
   "source": [
    "# NOTE: units info? \n",
    "# https://stackoverflow.com/questions/14688306/adding-meta-information-metadata-to-pandas-dataframe\n",
    "plot = df.SNWD.hvplot()\n",
    "plot"
   ]
  },
  {
   "cell_type": "code",
   "execution_count": null,
   "id": "34992bb4-e35a-48c1-bf3b-1a9610a91559",
   "metadata": {},
   "outputs": [],
   "source": [
    "# https://hvplot.holoviz.org/user_guide/Viewing.html?highlight=html#saving-plots\n",
    "#type(plot)"
   ]
  },
  {
   "cell_type": "code",
   "execution_count": null,
   "id": "c6bb4b76-de17-4bbe-bd7a-eefe68d1ad10",
   "metadata": {},
   "outputs": [],
   "source": [
    "hvplot.save(plot, '301_CA_SNTL.html') #82 KB...embedding data? down to 65K with float32, try float16? different compression?\n",
    "# But note that entire parquet file is memory usage: 102.8 KB..."
   ]
  },
  {
   "cell_type": "code",
   "execution_count": null,
   "id": "230c5c58-4da3-46fc-856a-38d1af486ba0",
   "metadata": {},
   "outputs": [],
   "source": [
    "!ls -thrl *html"
   ]
  },
  {
   "cell_type": "code",
   "execution_count": null,
   "id": "4cf79da5-2910-4b24-8b3a-1e3830a9ec35",
   "metadata": {},
   "outputs": [],
   "source": [
    "!ls -thrl"
   ]
  },
  {
   "cell_type": "code",
   "execution_count": null,
   "id": "8e4e910f-a2ea-491b-8ba0-7de2128877b1",
   "metadata": {},
   "outputs": [],
   "source": [
    "# OK, add the full HTML as a popup\n",
    "# It seems you can use remote data with?\n",
    "# https://altair-viz.github.io/\n",
    "# https://python-visualization.github.io/folium/quickstart.html#Vincent/Vega-and-Altair/VegaLite-Markers ?\n",
    "# https://altair-viz.github.io/user_guide/faq.html#why-does-altair-lead-to-such-extremely-large-notebooks"
   ]
  },
  {
   "cell_type": "markdown",
   "id": "0e473b16-ec98-4dd6-9096-1dc96527a7f6",
   "metadata": {},
   "source": [
    "## Altair"
   ]
  },
  {
   "cell_type": "code",
   "execution_count": null,
   "id": "3ad22f37-238b-49f3-89cb-924c61538b64",
   "metadata": {},
   "outputs": [],
   "source": [
    "# Use \"pip install altair\"\n",
    "#  mamba/conda wants to download: 1GB ?!\n",
    "import altair as alt"
   ]
  },
  {
   "cell_type": "code",
   "execution_count": null,
   "id": "996fb78c-ef80-4af3-bdb5-7e7cbcc4e185",
   "metadata": {},
   "outputs": [],
   "source": [
    "df = df.reset_index()\n",
    "df.info()"
   ]
  },
  {
   "cell_type": "code",
   "execution_count": null,
   "id": "7bc25c63-f659-4c9e-a6b3-b275d786b48f",
   "metadata": {},
   "outputs": [],
   "source": [
    "url = '301_CA_SNTL_slim.json'\n",
    "#url = 'https://raw.githubusercontent.com/scottyhq/snotel/main/timeseries/301_CA_SNTL.json'\n",
    "# https://github.com/pandas-dev/pandas/issues/25513\n",
    "df.to_json(url, \n",
    "         orient='records', # Required for altair\n",
    "         #date_unit='s',\n",
    "         date_format='iso', #366K\n",
    "         double_precision=5, # default 10:493K , 5:324K\n",
    "        )"
   ]
  },
  {
   "cell_type": "code",
   "execution_count": null,
   "id": "9ac697ae-5ec1-47cb-b5cc-ef707e530523",
   "metadata": {},
   "outputs": [],
   "source": [
    "!ls -lrh 301_CA_SNTL_slim.json"
   ]
  },
  {
   "cell_type": "code",
   "execution_count": null,
   "id": "76141feb-c666-4272-8691-a050d64092ae",
   "metadata": {},
   "outputs": [],
   "source": [
    "!ls -lrh 301*"
   ]
  },
  {
   "cell_type": "code",
   "execution_count": null,
   "id": "f572dc32-25ba-495b-97ae-478668ca37a9",
   "metadata": {},
   "outputs": [],
   "source": [
    "#datetime unit = 's' {\"datetime\":1388534400,\"TAVG\":0.2,\"TMIN\":-6.7,\"TMAX\":10.6,\"SNWD\":0.0254,\"WTEQ\":0.0127,\"PRCPSA\":0.00254}\n",
    "#datetime unit = 'ns'(default) {\"datetime\":1388534400000,\"TAVG\":0.2,\"TMIN\":-6.7,\"TMAX\":10.6,\"SNWD\":0.0254,\"WTEQ\":0.0127,\"PRCPSA\":0.00254},\n",
    "#!head {url} "
   ]
  },
  {
   "cell_type": "code",
   "execution_count": null,
   "id": "01a691ac-dcd2-487e-86ad-2648d8585063",
   "metadata": {},
   "outputs": [],
   "source": [
    "# NOTE this chart won't display in a jupyternotebook, need to save html\n",
    "from pprint import pprint\n",
    "\n",
    "chart = alt.Chart(url).mark_line().encode(\n",
    "    x='datetime:T',\n",
    "    y='SNWD:Q'\n",
    ")\n",
    "# NOTE: this does not appear in a jupyter notebook, but does render on a website!\n",
    "chart"
   ]
  },
  {
   "cell_type": "code",
   "execution_count": null,
   "id": "bba69d36-cb3f-42f8-bcf5-289871d4c2d7",
   "metadata": {},
   "outputs": [],
   "source": [
    "pprint(chart.to_dict()) "
   ]
  },
  {
   "cell_type": "code",
   "execution_count": null,
   "id": "3fbc8454-4031-4ccf-9b41-479bf78135bb",
   "metadata": {},
   "outputs": [],
   "source": [
    "chart.save('altair.html')"
   ]
  },
  {
   "cell_type": "code",
   "execution_count": null,
   "id": "1b6511e5-4176-489a-9d5a-abfd97114314",
   "metadata": {},
   "outputs": [],
   "source": [
    "ls -ltrh altair.html #only 1.4K! "
   ]
  },
  {
   "cell_type": "markdown",
   "id": "5fe40745-cc5f-4163-a556-b638548922b1",
   "metadata": {},
   "source": [
    "## Interactivitiy"
   ]
  },
  {
   "cell_type": "code",
   "execution_count": null,
   "id": "1fa891f8-a2f3-40e7-baec-53743e5be889",
   "metadata": {},
   "outputs": [],
   "source": [
    "# Altair interactive\n",
    "chart = alt.Chart(url).mark_line().encode(\n",
    "    x='datetime:T',\n",
    "    y='SNWD:Q',\n",
    "    tooltip=['datetime:T','SNWD:Q'],\n",
    ").interactive()\n",
    "pprint(chart.to_dict()) # ValueError: datetime encoding field is specified without a type; the type cannot be automatically inferred because the data is not specified as a pandas.DataFrame.\n",
    "#chart"
   ]
  },
  {
   "cell_type": "code",
   "execution_count": null,
   "id": "d461c756-e786-4a6c-8026-ca80a0a0cef6",
   "metadata": {},
   "outputs": [],
   "source": [
    "chart.save('altair-inteactive.html')"
   ]
  },
  {
   "cell_type": "code",
   "execution_count": null,
   "id": "ba91fadb-94fa-4202-a045-4285b2b9fe93",
   "metadata": {},
   "outputs": [],
   "source": [
    "# https://altair-viz.github.io/user_guide/data.html#including-index-data\n",
    "chart = alt.Chart(df.reset_index(), title='301_CA_SNTL').mark_line().encode(\n",
    "    x='datetime',\n",
    "    y='WTEQ',\n",
    "    #tooltip=['datetime','SNWD','WTEQ'],\n",
    ")\n",
    "\n",
    "#chart.interactive()\n",
    "chart"
   ]
  },
  {
   "cell_type": "code",
   "execution_count": null,
   "id": "c6674f4a-ade3-4b61-ad20-4c2e1c11c55e",
   "metadata": {},
   "outputs": [],
   "source": [
    "pprint(chart.to_dict()['encoding'])"
   ]
  },
  {
   "cell_type": "code",
   "execution_count": null,
   "id": "1b102046-5965-4fdd-8c48-b2b712ecea2a",
   "metadata": {},
   "outputs": [],
   "source": []
  }
 ],
 "metadata": {
  "kernelspec": {
   "display_name": "Python 3 (ipykernel)",
   "language": "python",
   "name": "python3"
  },
  "language_info": {
   "codemirror_mode": {
    "name": "ipython",
    "version": 3
   },
   "file_extension": ".py",
   "mimetype": "text/x-python",
   "name": "python",
   "nbconvert_exporter": "python",
   "pygments_lexer": "ipython3",
   "version": "3.10.6"
  }
 },
 "nbformat": 4,
 "nbformat_minor": 5
}
